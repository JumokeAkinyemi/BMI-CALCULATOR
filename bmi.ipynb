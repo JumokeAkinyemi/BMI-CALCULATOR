{
 "cells": [
  {
   "cell_type": "code",
   "execution_count": 16,
   "metadata": {},
   "outputs": [
    {
     "name": "stdout",
     "output_type": "stream",
     "text": [
      "hello, world\n"
     ]
    }
   ],
   "source": [
    "#Hello world in python\n",
    "print(\"hello, world\")  "
   ]
  },
  {
   "cell_type": "code",
   "execution_count": 17,
   "metadata": {},
   "outputs": [
    {
     "name": "stdout",
     "output_type": "stream",
     "text": [
      "71.0\n"
     ]
    }
   ],
   "source": [
    "#sum\n",
    "sum = 23 + 12.5\n",
    "mult = sum * 2\n",
    "print(mult)"
   ]
  },
  {
   "cell_type": "code",
   "execution_count": 18,
   "metadata": {},
   "outputs": [
    {
     "name": "stdout",
     "output_type": "stream",
     "text": [
      "Jumoke comes from Nigeria\n"
     ]
    }
   ],
   "source": [
    "name = \"Jumoke\"\n",
    "country = \"Nigeria\"\n",
    "print(name + \" comes from \" + country)"
   ]
  },
  {
   "cell_type": "code",
   "execution_count": 19,
   "metadata": {},
   "outputs": [
    {
     "name": "stdout",
     "output_type": "stream",
     "text": [
      "Jumoke comes from Nigeria\n"
     ]
    }
   ],
   "source": [
    "name = \"Jumoke\"\n",
    "country = \"Nigeria\"\n",
    "print(name + \" comes from \" + country)"
   ]
  },
  {
   "cell_type": "code",
   "execution_count": 24,
   "metadata": {},
   "outputs": [],
   "source": [
    "height = 1.3\n",
    "weight = 50\n",
    "overwight = True\n",
    "result = (\"you are overweight\")"
   ]
  },
  {
   "cell_type": "code",
   "execution_count": 22,
   "metadata": {},
   "outputs": [
    {
     "data": {
      "text/plain": [
       "float"
      ]
     },
     "execution_count": 22,
     "metadata": {},
     "output_type": "execute_result"
    }
   ],
   "source": [
    "type(height)"
   ]
  },
  {
   "cell_type": "code",
   "execution_count": 21,
   "metadata": {},
   "outputs": [
    {
     "data": {
      "text/plain": [
       "int"
      ]
     },
     "execution_count": 21,
     "metadata": {},
     "output_type": "execute_result"
    }
   ],
   "source": [
    "type(weight)"
   ]
  },
  {
   "cell_type": "code",
   "execution_count": null,
   "metadata": {},
   "outputs": [
    {
     "data": {
      "text/plain": [
       "bool"
      ]
     },
     "execution_count": 15,
     "metadata": {},
     "output_type": "execute_result"
    }
   ],
   "source": [
    "type(overwight)"
   ]
  },
  {
   "cell_type": "code",
   "execution_count": null,
   "metadata": {},
   "outputs": [
    {
     "name": "stdout",
     "output_type": "stream",
     "text": [
      "20 3 121 6.0\n"
     ]
    }
   ],
   "source": [
    "sum = 10 + 10\n",
    "sub = 23 - 20\n",
    "mult = 11 * 11\n",
    "div = 12/2\n",
    "print(sum, sub, mult, div)"
   ]
  },
  {
   "cell_type": "code",
   "execution_count": null,
   "metadata": {},
   "outputs": [
    {
     "data": {
      "text/plain": [
       "2.0"
      ]
     },
     "execution_count": 13,
     "metadata": {},
     "output_type": "execute_result"
    }
   ],
   "source": [
    "x = 2\n",
    "x += 2\n",
    "x -= 2\n",
    "x /= 2\n",
    "x *= 2\n",
    "x"
   ]
  },
  {
   "cell_type": "code",
   "execution_count": null,
   "metadata": {},
   "outputs": [
    {
     "data": {
      "text/plain": [
       "datetime.date(2022, 7, 14)"
      ]
     },
     "execution_count": 7,
     "metadata": {},
     "output_type": "execute_result"
    }
   ],
   "source": [
    "from datetime import date\n",
    "date.today()"
   ]
  },
  {
   "cell_type": "code",
   "execution_count": null,
   "metadata": {},
   "outputs": [
    {
     "name": "stdout",
     "output_type": "stream",
     "text": [
      "today is 2022-07-14\n"
     ]
    }
   ],
   "source": [
    "print(\"today is \" + str(date.today()))"
   ]
  },
  {
   "cell_type": "markdown",
   "metadata": {},
   "source": [
    "print(\"BMI calculator\")\n",
    "weight = float(input(\"enter your weight in kg\"))\n",
    "height = float(input(\"enter your height in meters\"))\n",
    "BMI = weight / (height*height)\n",
    "print (BMI)"
   ]
  },
  {
   "cell_type": "code",
   "execution_count": 46,
   "metadata": {},
   "outputs": [
    {
     "name": "stdout",
     "output_type": "stream",
     "text": [
      "b is less than c\n"
     ]
    }
   ],
   "source": [
    "a = 18\n",
    "b = 15\n",
    "c = 16\n",
    "\n",
    "if a > b:\n",
    "    if b > c:\n",
    "        print (\"a is greater than b and b is greater than c\")\n",
    "    else:\n",
    "        print(\"b is less than c\")\n",
    "elif a ==b:\n",
    "    print (\"a and b are equal\")\n",
    "else:\n",
    "    print(\"a is less than b\")\n",
    "\n"
   ]
  },
  {
   "cell_type": "code",
   "execution_count": 2,
   "metadata": {},
   "outputs": [
    {
     "name": "stdout",
     "output_type": "stream",
     "text": [
      "BMI calculator\n",
      "Congrate! You are Healthy\n"
     ]
    }
   ],
   "source": [
    "\n",
    "print(\"BMI calculator\")\n",
    "weight = float(input(\"enter your weight in kg\"))\n",
    "height = float(input(\"enter your height in meters\"))\n",
    "BMI = weight / (height*height)\n",
    "\n",
    "if(BMI>0):\n",
    "    if(BMI<=16):\n",
    "        print(\"You are very underweight\")\n",
    "    elif(BMI<=18.5):\n",
    "        print(\"Congrate! You are underweight\")\n",
    "    elif(BMI<=25):\n",
    "        print(\"Congrate! You are Healthy\")\n",
    "    elif(BMI<=30):\n",
    "        print(\"You are overweight\")\n",
    "    else:\n",
    "        print(\"You are very overweight\")\n",
    "else:\n",
    "    print(\"enter valid details\")\n"
   ]
  }
 ],
 "metadata": {
  "kernelspec": {
   "display_name": "Python 3.8.5 32-bit",
   "language": "python",
   "name": "python3"
  },
  "language_info": {
   "codemirror_mode": {
    "name": "ipython",
    "version": 3
   },
   "file_extension": ".py",
   "mimetype": "text/x-python",
   "name": "python",
   "nbconvert_exporter": "python",
   "pygments_lexer": "ipython3",
   "version": "3.8.5"
  },
  "orig_nbformat": 4,
  "vscode": {
   "interpreter": {
    "hash": "ab346aeb941d3eb22c315bdddbcd7a9399296d9e3feea520812b7600ca0cd9c8"
   }
  }
 },
 "nbformat": 4,
 "nbformat_minor": 2
}
